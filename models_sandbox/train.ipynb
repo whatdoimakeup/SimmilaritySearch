{
 "cells": [
  {
   "cell_type": "code",
   "execution_count": 1,
   "metadata": {},
   "outputs": [],
   "source": [
    "from model import ModelWrapper, Trainer, ImageDataset"
   ]
  },
  {
   "cell_type": "code",
   "execution_count": null,
   "metadata": {},
   "outputs": [],
   "source": [
    "wrap = ModelWrapper() # model_name "
   ]
  },
  {
   "cell_type": "code",
   "execution_count": 3,
   "metadata": {},
   "outputs": [],
   "source": [
    "import os\n",
    "from typing import List\n",
    "\n",
    "def collect_image_paths(root_dir: str) -> List[str]:\n",
    "    \"\"\"\n",
    "    Собирает все пути изображений в указанной папке и её подкаталогах.\n",
    "\n",
    "    Параметры:\n",
    "        root_dir (str): Корневая папка, в которой будут искаться изображения.\n",
    "\n",
    "    Возвращает:\n",
    "        List[str]: Список путей к изображениям.\n",
    "    \"\"\"\n",
    "    image_paths = []\n",
    "    for root, _, files in os.walk(root_dir):\n",
    "        for file in files:\n",
    "            if file.lower().endswith(('.png', '.jpg', '.jpeg', '.bmp', '.gif', '.tiff')):\n",
    "                image_paths.append(os.path.join(root, file))\n",
    "    return image_paths"
   ]
  },
  {
   "cell_type": "code",
   "execution_count": 4,
   "metadata": {},
   "outputs": [],
   "source": [
    "paths = collect_image_paths(root_dir=f'C:\\\\Jup\\\\Хаки-хуяки\\\\image-similarity\\\\clip\\\\train_data_rkn\\\\dataset')"
   ]
  },
  {
   "cell_type": "code",
   "execution_count": 5,
   "metadata": {},
   "outputs": [],
   "source": [
    "import random\n",
    "from typing import Tuple\n",
    "def split_dataset(image_paths: List[str], val_ratio: float = 0.2) -> Tuple[List[str], List[str]]:\n",
    "    \"\"\"\n",
    "    Перемешивает и разделяет пути изображений на тренировочную и валидационную выборки.\n",
    "\n",
    "    Параметры:\n",
    "        image_paths (List[str]): Список путей к изображениям.\n",
    "        val_ratio (float): Доля данных, которая будет отведена под валидацию.\n",
    "\n",
    "    Возвращает:\n",
    "        Tuple[List[str], List[str]]: Тренировочная и валидационная выборки.\n",
    "    \"\"\"\n",
    "    # Перемешиваем данные\n",
    "    random.shuffle(image_paths)\n",
    "    \n",
    "    # Разделяем на тренировочную и валидационную выборки\n",
    "    val_size = int(len(image_paths) * val_ratio)\n",
    "    val_paths = image_paths[:val_size]\n",
    "    train_paths = image_paths[val_size:]\n",
    "    \n",
    "    return train_paths, val_paths"
   ]
  },
  {
   "cell_type": "code",
   "execution_count": 20,
   "metadata": {},
   "outputs": [],
   "source": [
    "train_paths, val_paths = split_dataset(paths)"
   ]
  },
  {
   "cell_type": "code",
   "execution_count": 21,
   "metadata": {},
   "outputs": [],
   "source": [
    "from torchvision import transforms\n",
    "transform = transforms.Compose([\n",
    "    transforms.Resize((224, 224)),  # Пример изменения размера, если требуется\n",
    "    transforms.ToTensor()\n",
    "])"
   ]
  },
  {
   "cell_type": "code",
   "execution_count": 22,
   "metadata": {},
   "outputs": [],
   "source": [
    "# Закомментить для всего датасета\n",
    "train_paths = train_paths[:1024]\n",
    "val_paths = val_paths[:256]\n",
    "\n",
    "train_data = ImageDataset(image_paths=train_paths, transform = transform)\n",
    "val_data = ImageDataset(image_paths=val_paths, transform = transform)"
   ]
  },
  {
   "cell_type": "code",
   "execution_count": 23,
   "metadata": {},
   "outputs": [],
   "source": [
    "from torch.utils.data import DataLoader\n",
    "batch_size = 16\n",
    "train_dataloader = DataLoader(train_data, batch_size=batch_size, shuffle=True)\n",
    "val_dataloader = DataLoader(val_data, batch_size=batch_size, shuffle=True)"
   ]
  },
  {
   "cell_type": "code",
   "execution_count": 24,
   "metadata": {},
   "outputs": [],
   "source": [
    "visual_parameters = [p for p in wrap.model.vision_model.parameters() if p.requires_grad]\n",
    "transformer_parameters = [p for p in wrap.model.text_model.parameters() if p.requires_grad]\n",
    "\n",
    "param_groups = [\n",
    "    {'params': transformer_parameters[:len(transformer_parameters)//2], 'lr': 1e-6},  # First half of the transformer\n",
    "    {'params': transformer_parameters[len(transformer_parameters)//2:], 'lr': 3e-6},   # Second half of the transformer\n",
    "    {'params': visual_parameters[:len(visual_parameters)//2], 'lr': 1e-6},  # First half of the vision transformer\n",
    "    {'params': visual_parameters[len(visual_parameters)//2:], 'lr': 3e-6},   # Second half of the vision transformer\n",
    "]\n",
    "learning_rate = 5e-7\n",
    "from torch.optim import AdamW\n",
    "optimizer = AdamW(wrap.model.parameters(), lr=learning_rate, betas=(0.9, 0.995), eps=1e-6, weight_decay=1e-2)"
   ]
  },
  {
   "cell_type": "code",
   "execution_count": 25,
   "metadata": {},
   "outputs": [],
   "source": [
    "trainer = Trainer(\n",
    "    model_wrapper=wrap,\n",
    "    train_dataloader=train_dataloader,\n",
    "    val_dataloader=val_dataloader,\n",
    "    optimizer=optimizer\n",
    ")"
   ]
  },
  {
   "cell_type": "code",
   "execution_count": 26,
   "metadata": {},
   "outputs": [
    {
     "name": "stderr",
     "output_type": "stream",
     "text": [
      "Training: 100%|██████████| 64/64 [00:22<00:00,  2.81it/s]\n",
      "Validating: 100%|██████████| 16/16 [00:05<00:00,  3.08it/s]\n"
     ]
    },
    {
     "name": "stdout",
     "output_type": "stream",
     "text": [
      "Epoch 1/10, Train Loss: 2.7734, Val Loss: 2.7726\n"
     ]
    },
    {
     "name": "stderr",
     "output_type": "stream",
     "text": [
      "Training: 100%|██████████| 64/64 [00:21<00:00,  2.93it/s]\n",
      "Validating: 100%|██████████| 16/16 [00:04<00:00,  3.20it/s]\n"
     ]
    },
    {
     "name": "stdout",
     "output_type": "stream",
     "text": [
      "Epoch 2/10, Train Loss: 2.7725, Val Loss: 2.7726\n"
     ]
    },
    {
     "name": "stderr",
     "output_type": "stream",
     "text": [
      "Training: 100%|██████████| 64/64 [00:21<00:00,  2.94it/s]\n",
      "Validating: 100%|██████████| 16/16 [00:05<00:00,  3.17it/s]\n"
     ]
    },
    {
     "name": "stdout",
     "output_type": "stream",
     "text": [
      "Epoch 3/10, Train Loss: 2.7713, Val Loss: 2.7719\n"
     ]
    },
    {
     "name": "stderr",
     "output_type": "stream",
     "text": [
      "Training: 100%|██████████| 64/64 [00:21<00:00,  2.96it/s]\n",
      "Validating: 100%|██████████| 16/16 [00:05<00:00,  3.17it/s]\n"
     ]
    },
    {
     "name": "stdout",
     "output_type": "stream",
     "text": [
      "Epoch 4/10, Train Loss: 2.7718, Val Loss: 2.7726\n"
     ]
    },
    {
     "name": "stderr",
     "output_type": "stream",
     "text": [
      "Training: 100%|██████████| 64/64 [00:22<00:00,  2.87it/s]\n",
      "Validating: 100%|██████████| 16/16 [00:05<00:00,  3.15it/s]\n"
     ]
    },
    {
     "name": "stdout",
     "output_type": "stream",
     "text": [
      "Epoch 5/10, Train Loss: 2.7726, Val Loss: 2.7725\n"
     ]
    },
    {
     "name": "stderr",
     "output_type": "stream",
     "text": [
      "Training: 100%|██████████| 64/64 [00:21<00:00,  2.93it/s]\n",
      "Validating: 100%|██████████| 16/16 [00:05<00:00,  3.17it/s]\n"
     ]
    },
    {
     "name": "stdout",
     "output_type": "stream",
     "text": [
      "Epoch 6/10, Train Loss: 2.7698, Val Loss: 2.7725\n"
     ]
    },
    {
     "name": "stderr",
     "output_type": "stream",
     "text": [
      "Training: 100%|██████████| 64/64 [00:21<00:00,  3.03it/s]\n",
      "Validating: 100%|██████████| 16/16 [00:05<00:00,  3.20it/s]\n"
     ]
    },
    {
     "name": "stdout",
     "output_type": "stream",
     "text": [
      "Epoch 7/10, Train Loss: 2.7725, Val Loss: 2.7725\n"
     ]
    },
    {
     "name": "stderr",
     "output_type": "stream",
     "text": [
      "Training: 100%|██████████| 64/64 [00:21<00:00,  3.03it/s]\n",
      "Validating: 100%|██████████| 16/16 [00:04<00:00,  3.22it/s]\n"
     ]
    },
    {
     "name": "stdout",
     "output_type": "stream",
     "text": [
      "Epoch 8/10, Train Loss: 2.7724, Val Loss: 2.7723\n"
     ]
    },
    {
     "name": "stderr",
     "output_type": "stream",
     "text": [
      "Training: 100%|██████████| 64/64 [00:21<00:00,  3.02it/s]\n",
      "Validating: 100%|██████████| 16/16 [00:05<00:00,  3.17it/s]\n"
     ]
    },
    {
     "name": "stdout",
     "output_type": "stream",
     "text": [
      "Epoch 9/10, Train Loss: 2.7719, Val Loss: 2.7724\n"
     ]
    },
    {
     "name": "stderr",
     "output_type": "stream",
     "text": [
      "Training: 100%|██████████| 64/64 [00:21<00:00,  2.92it/s]\n",
      "Validating: 100%|██████████| 16/16 [00:04<00:00,  3.23it/s]"
     ]
    },
    {
     "name": "stdout",
     "output_type": "stream",
     "text": [
      "Epoch 10/10, Train Loss: 2.7724, Val Loss: 2.7722\n"
     ]
    },
    {
     "name": "stderr",
     "output_type": "stream",
     "text": [
      "\n"
     ]
    }
   ],
   "source": [
    "trainer.fit(10)"
   ]
  },
  {
   "cell_type": "code",
   "execution_count": 27,
   "metadata": {},
   "outputs": [
    {
     "data": {
      "image/png": "[encoded data removed]",
      "text/plain": [
       "<Figure size 1000x500 with 1 Axes>"
      ]
     },
     "metadata": {},
     "output_type": "display_data"
    }
   ],
   "source": [
    "trainer.plot_losses()"
   ]
  }
 ],
 "metadata": {
  "kernelspec": {
   "display_name": "pip-torch",
   "language": "python",
   "name": "python3"
  },
  "language_info": {
   "codemirror_mode": {
    "name": "ipython",
    "version": 3
   },
   "file_extension": ".py",
   "mimetype": "text/x-python",
   "name": "python",
   "nbconvert_exporter": "python",
   "pygments_lexer": "ipython3",
   "version": "3.11.5"
  }
 },
 "nbformat": 4,
 "nbformat_minor": 2
}
